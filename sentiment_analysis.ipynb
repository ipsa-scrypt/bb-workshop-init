{
 "cells": [
  {
   "cell_type": "markdown",
   "source": [
    "# Welcome !\n",
    "\n",
    "> Let's see what we can do together. Let's take a look at some sentiment analysis.\n",
    "\n",
    "***To detect good sentences from bad we will use some TF-IDF matrices: Term-frequency - Inverse-Document-Frequency***\n",
    "\n",
    "![mario](https://img.freepik.com/vecteurs-libre/fond-jeu-video-dessine-main_23-2150320542.jpg)\n",
    "\n",
    "### What is it?\n",
    "Let's say we have for example: **\"I love this cat\"** and **\"I love this dog\"**, **\"I hate the movie\"**\n",
    "In this case, we can see that the frequency of love over the first sentence is 1, over the second 1 and finally 0. \n",
    "The global frequency is 2.\n",
    "Let's take a look at: \"I\", the frequency over all sentences is respectively 1. \n",
    "The global fequency of I over the document (3 sentences) is 3.\n",
    "\n",
    "### Does it mean \"I\" is more important than \"love\"?\n",
    "Nop, you're right, \"I\" is not more important. To focus on correctness of the frequency over all documents, we have to multiply the TF (term fequency) with the IDF (inverse-document-frequency):\n",
    "\n",
    "***TF * log(N/df)***\n",
    "\n",
    "N = 3 (because 3 sentences)\n",
    "* For \"I\":\n",
    "TF = 1 for the first sentence\n",
    "df = 3 because \"I\" appears in all 3 documents\n",
    "\n",
    "**TF-IDF(\"I\") = 0**, therefore, \"I\" in the first document is not a valuable information.\n",
    "\n",
    "* For \"love\":\n",
    "TF = 1 for the first sentence\n",
    "df = 2 because \"love\" appears in 2 / 3 documents\n",
    "\n",
    "**TF-IDF(\"love\")** = 0.17, therefore \"love\" is a little valuable in the first sentence.\n",
    "\n",
    "***PS: this approach will be quite wrong as it will not take into account any context.***\n",
    "\n",
    "\n",
    "| When you see a MARIO STAR, it means it's your time to shine and to code!\n"
   ],
   "metadata": {
    "collapsed": false
   },
   "id": "21b92757c2eebd12"
  },
  {
   "cell_type": "code",
   "execution_count": 233,
   "outputs": [],
   "source": [
    "import numpy as np\n",
    "from sklearn.metrics.pairwise import cosine_similarity"
   ],
   "metadata": {
    "collapsed": false,
    "ExecuteTime": {
     "end_time": "2023-11-16T23:53:28.780998900Z",
     "start_time": "2023-11-16T23:53:28.652737700Z"
    }
   },
   "id": "cff87a02659db489"
  },
  {
   "cell_type": "markdown",
   "source": [
    "### Below is some bad and good \n",
    "\n",
    "We will use those sentences to create two TF-IDF matrices: one good, one bad. \n",
    "Later, we will compare every sentence we want with the two matrices and check which of the two has the closest cosine similarity (distance) in terms of TF-IDF value with the sentence we want to predict the sentiment.\n",
    "If you don't understand yet, no worries keep up!"
   ],
   "metadata": {
    "collapsed": false
   },
   "id": "e79f277a036e4490"
  },
  {
   "cell_type": "code",
   "execution_count": 234,
   "outputs": [],
   "source": [
    "bad_sentences = [\n",
    "    ['I', 'hate', 'this'],\n",
    "    ['I', 'don\\'t', 'like', 'it'],\n",
    "    ['I', 'hate', 'that'],\n",
    "    ['What', 'a', 'disaster'],\n",
    "    ['Not', 'good'],\n",
    "    ['It', 'is', 'bad'],\n",
    "    ['I', 'am', 'not', 'happy'],\n",
    "    ['I', 'am', 'unhappy'],\n",
    "    ['I', 'am', 'sad'],\n",
    "    ['I', 'am', 'mad'],\n",
    "    ['I', 'am', 'angry'],\n",
    "    ['I', 'am', 'not', 'glad'],\n",
    "    ['I', 'am', 'not', 'pleased'],\n",
    "    ['I', 'am', 'not', 'satisfied'],\n",
    "    ['I', 'am', 'not', 'content'],\n",
    "    ['I', 'am', 'not', 'cheerful'],\n",
    "    ['I', 'am', 'not', 'delighted'],\n",
    "    ['I', 'am', 'not', 'joyful'],\n",
    "    ['I', 'am', 'not', 'joyous'],\n",
    "    ['I', 'am', 'not', 'jubilant'],\n",
    "    ['I', 'am', 'not', 'ecstatic'],\n",
    "    ['I', 'am', 'not', 'elated'],\n",
    "    ['I', 'am', 'not', 'overjoyed'],\n",
    "    ['I', 'am', 'not', 'thrilled'],\n",
    "    ['I', 'am', 'not', 'excited'],\n",
    "    ['I', 'am', 'not', 'exhilarated'],\n",
    "    ['I', 'am', 'not', 'euphoric'],\n",
    "    ['I', 'am', 'not', 'blissful'],\n",
    "    ['I', 'am', 'not', 'cheery'],\n",
    "    ['I', 'am', 'not', 'chipper'],\n",
    "    ['I', 'am', 'not', 'contented'],\n",
    "    ['I', 'am', 'not', 'enjoying'],\n",
    "    ['I', 'am', 'not', 'glad'],\n",
    "    ['I', 'am', 'not', 'gratified'],\n",
    "    ['I', 'am', 'not', 'gratifying'],\n",
    "    ['I', 'am', 'not', 'happy'],\n",
    "    ['I', 'am', 'not', 'joyous'],\n",
    "    ['I', 'am', 'not', 'jubilant'],\n",
    "    ['I', 'am', 'not', 'pleased'],\n",
    "    ['I', 'am', 'not', 'pleasing'],\n",
    "    ['I', 'am', 'not', 'satisfied']\n",
    "]\n",
    "\n",
    "good_sentences = [\n",
    "    ['I', 'love', 'this'],\n",
    "    ['I', 'like', 'it'],\n",
    "    ['I', 'love', 'it'],\n",
    "    ['What', 'a', 'wonderful', 'day'],\n",
    "    ['Good'],\n",
    "    ['It', 'is', 'good'],\n",
    "    ['I', 'am', 'happy'],\n",
    "    ['I', 'am', 'glad'],\n",
    "    ['I', 'am', 'pleased'],\n",
    "    ['I', 'am', 'satisfied'],\n",
    "    ['I', 'am', 'content'],\n",
    "    ['I', 'am', 'cheerful'],\n",
    "    ['I', 'am', 'delighted'],\n",
    "    ['I', 'am', 'joyful'],\n",
    "    ['I', 'am', 'joyous'],\n",
    "    ['I', 'am', 'jubilant'],\n",
    "    ['I', 'am', 'ecstatic'],\n",
    "    ['I', 'am', 'elated'],\n",
    "    ['I', 'am', 'overjoyed'],\n",
    "    ['I', 'am', 'thrilled'],\n",
    "    ['I', 'am', 'excited'],\n",
    "    ['I', 'am', 'exhilarated'],\n",
    "    ['I', 'love', 'that', 'a', 'lot'],\n",
    "    ['I', 'am', 'euphoric'],\n",
    "    ['I', 'am', 'pleased'],\n",
    "    ['I', 'am', 'pleasing'],\n",
    "    ['I', 'am', 'satisfied']\n",
    "\n",
    "]"
   ],
   "metadata": {
    "collapsed": false,
    "ExecuteTime": {
     "end_time": "2023-11-16T23:53:28.782993500Z",
     "start_time": "2023-11-16T23:53:28.681749200Z"
    }
   },
   "id": "e7ae5c7ae41f599d"
  },
  {
   "cell_type": "markdown",
   "source": [
    "**Time to code!** <img src=\"https://mario.wiki.gallery/images/thumb/f/f5/StarMK8.png/1200px-StarMK8.png\" width=\"200\"> **Time to code!**"
   ],
   "metadata": {
    "collapsed": false
   },
   "id": "ff4ef0d80bbc7"
  },
  {
   "cell_type": "markdown",
   "source": [
    "### 1. Term Frequency\n",
    "As we said earlier, we will first calculate the term frequency of each word in each sentence.\n",
    "\n",
    "->TIPS:\n",
    "- Create an empty dictionary\n",
    "- Loop over each sentence\n",
    "- Loop over each word in the sentence\n",
    "- If the word is already in the dictionary, add 1 to the value\n",
    "- If the word is not in the dictionary, add the word as a key and set the value to 1"
   ],
   "metadata": {
    "collapsed": false
   },
   "id": "5b0b3d075f0e1aa3"
  },
  {
   "cell_type": "code",
   "execution_count": 235,
   "id": "initial_id",
   "metadata": {
    "collapsed": true,
    "ExecuteTime": {
     "end_time": "2023-11-16T23:53:28.782993500Z",
     "start_time": "2023-11-16T23:53:28.692721900Z"
    }
   },
   "outputs": [],
   "source": [
    "def term_frequency(tokenized_sentences):\n",
    "    pass"
   ]
  },
  {
   "cell_type": "code",
   "execution_count": 236,
   "outputs": [],
   "source": [
    "tf_bad = term_frequency(bad_sentences)\n",
    "tf_good = term_frequency(good_sentences)"
   ],
   "metadata": {
    "collapsed": false,
    "ExecuteTime": {
     "end_time": "2023-11-16T23:53:28.782993500Z",
     "start_time": "2023-11-16T23:53:28.708679100Z"
    }
   },
   "id": "67c6b8b87cb1faa9"
  },
  {
   "cell_type": "code",
   "execution_count": 237,
   "outputs": [],
   "source": [
    "global_shape = len(tf_bad) + len(tf_good)"
   ],
   "metadata": {
    "collapsed": false,
    "ExecuteTime": {
     "end_time": "2023-11-16T23:53:28.783990800Z",
     "start_time": "2023-11-16T23:53:28.722640Z"
    }
   },
   "id": "59dcd882e2387d7d"
  },
  {
   "cell_type": "markdown",
   "source": [
    "### 2. TF Matrix\n",
    "Now that we have the term frequency of each word, we will create a matrix with the shape of the number of sentences and the number of words in the dictionary.\n",
    "\n",
    "->TIPS:\n",
    "- Create an empty matrix (list of lists)\n",
    "- Loop over each sentence\n",
    "- Create an empty vector (list) of the size: global_shape (this is because we are going to create two TF-IDF matrices: one for good sentences and one for bad sentences. The global_shape will be the same for both matrices)\n",
    "- Loop over each word in the sentence\n",
    "- If the word is in the dictionary, add the number of times the word appears in the sentence to the vector\n",
    "- If the word is not in the dictionary, add 0 to the vector\n",
    "- Add the vector to the matrix\n",
    "- Return the matrix"
   ],
   "metadata": {
    "collapsed": false
   },
   "id": "7cf83f88f6493b8b"
  },
  {
   "cell_type": "code",
   "execution_count": 238,
   "outputs": [],
   "source": [
    "def tf_matrix(tokenized_sentences, tf):\n",
    "    pass"
   ],
   "metadata": {
    "collapsed": false,
    "ExecuteTime": {
     "end_time": "2023-11-16T23:53:28.783990800Z",
     "start_time": "2023-11-16T23:53:28.739619Z"
    }
   },
   "id": "b472ad32c366de3e"
  },
  {
   "cell_type": "code",
   "execution_count": 239,
   "outputs": [
    {
     "name": "stdout",
     "output_type": "stream",
     "text": [
      "Shape of TF Matrix : \n",
      " (41, 80)\n",
      "TF Matrix : \n",
      " [[1 1 1 ... 0 0 0]\n",
      " [1 0 0 ... 0 0 0]\n",
      " [1 1 0 ... 0 0 0]\n",
      " ...\n",
      " [1 0 0 ... 0 0 0]\n",
      " [1 0 0 ... 0 0 0]\n",
      " [1 0 0 ... 0 0 0]]\n",
      "Shape of TF Matrix : \n",
      " (27, 80)\n",
      "TF Matrix : \n",
      " [[1 1 1 ... 0 0 0]\n",
      " [1 0 0 ... 0 0 0]\n",
      " [1 1 0 ... 0 0 0]\n",
      " ...\n",
      " [1 0 0 ... 0 0 0]\n",
      " [1 0 0 ... 0 0 0]\n",
      " [1 0 0 ... 0 0 0]]\n"
     ]
    }
   ],
   "source": [
    "tf_matrix_bad = tf_matrix(bad_sentences, tf_bad)\n",
    "tf_matrix_good = tf_matrix(good_sentences, tf_good)"
   ],
   "metadata": {
    "collapsed": false,
    "ExecuteTime": {
     "end_time": "2023-11-16T23:53:28.783990800Z",
     "start_time": "2023-11-16T23:53:28.754557400Z"
    }
   },
   "id": "756b6ccfe6c8b416"
  },
  {
   "cell_type": "markdown",
   "source": [
    "### 3. IDF Matrix\n",
    "Now that we have the TF matrix, we will create the IDF matrix.\n",
    "\n",
    "->TIPS:\n",
    "- Create an empty vector (list)\n",
    "- Loop over each word in the dictionary\n",
    "- Create a counter\n",
    "- Loop over each sentence\n",
    "- If the word is in the sentence, add 1 to the counter\n",
    "- Add the log of the number of sentences divided by the counter + 1 to the vector\n",
    "- Return the vector"
   ],
   "metadata": {
    "collapsed": false
   },
   "id": "7b0cc8c3af14cd5e"
  },
  {
   "cell_type": "code",
   "execution_count": 240,
   "outputs": [],
   "source": [
    "def idf_matrix(tf_matrix):\n",
    "    pass"
   ],
   "metadata": {
    "collapsed": false,
    "ExecuteTime": {
     "end_time": "2023-11-16T23:53:28.812969200Z",
     "start_time": "2023-11-16T23:53:28.769031500Z"
    }
   },
   "id": "d5e79992cc89abad"
  },
  {
   "cell_type": "code",
   "execution_count": 241,
   "outputs": [
    {
     "name": "stdout",
     "output_type": "stream",
     "text": [
      "Shape of IDF Matrix : \n",
      " (80,)\n",
      "IDF Matrix : \n",
      " [0.07410797 2.63905733 3.04452244 3.04452244 3.04452244 3.04452244\n",
      " 3.04452244 3.04452244 3.04452244 3.04452244 3.04452244 3.04452244\n",
      " 3.04452244 3.04452244 3.04452244 0.15415068 0.27193372 2.63905733\n",
      " 3.04452244 3.04452244 3.04452244 3.04452244 2.63905733 2.63905733\n",
      " 2.63905733 3.04452244 3.04452244 3.04452244 3.04452244 2.63905733\n",
      " 2.63905733 3.04452244 3.04452244 3.04452244 3.04452244 3.04452244\n",
      " 3.04452244 3.04452244 3.04452244 3.04452244 3.04452244 3.04452244\n",
      " 3.04452244 3.04452244 3.04452244 3.04452244 3.73766962 3.73766962\n",
      " 3.73766962 3.73766962 3.73766962 3.73766962 3.73766962 3.73766962\n",
      " 3.73766962 3.73766962 3.73766962 3.73766962 3.73766962 3.73766962\n",
      " 3.73766962 3.73766962 3.73766962 3.73766962 3.73766962 3.73766962\n",
      " 3.73766962 3.73766962 3.73766962 3.73766962 3.73766962 3.73766962\n",
      " 3.73766962 3.73766962 3.73766962 3.73766962 3.73766962 3.73766962\n",
      " 3.73766962 3.73766962]\n",
      "Shape of IDF Matrix : \n",
      " (80,)\n",
      "IDF Matrix : \n",
      " [0.11332869 1.94591015 2.63905733 2.63905733 2.23359222 2.63905733\n",
      " 2.23359222 2.63905733 2.63905733 2.63905733 2.63905733 2.63905733\n",
      " 2.63905733 0.28768207 2.63905733 2.63905733 2.23359222 2.23359222\n",
      " 2.63905733 2.63905733 2.63905733 2.63905733 2.63905733 2.63905733\n",
      " 2.63905733 2.63905733 2.63905733 2.63905733 2.63905733 2.63905733\n",
      " 2.63905733 2.63905733 2.63905733 2.63905733 3.33220451 3.33220451\n",
      " 3.33220451 3.33220451 3.33220451 3.33220451 3.33220451 3.33220451\n",
      " 3.33220451 3.33220451 3.33220451 3.33220451 3.33220451 3.33220451\n",
      " 3.33220451 3.33220451 3.33220451 3.33220451 3.33220451 3.33220451\n",
      " 3.33220451 3.33220451 3.33220451 3.33220451 3.33220451 3.33220451\n",
      " 3.33220451 3.33220451 3.33220451 3.33220451 3.33220451 3.33220451\n",
      " 3.33220451 3.33220451 3.33220451 3.33220451 3.33220451 3.33220451\n",
      " 3.33220451 3.33220451 3.33220451 3.33220451 3.33220451 3.33220451\n",
      " 3.33220451 3.33220451]\n"
     ]
    }
   ],
   "source": [
    "idf_matrix_bad = idf_matrix(tf_matrix_bad)\n",
    "idf_matrix_good = idf_matrix(tf_matrix_good)"
   ],
   "metadata": {
    "collapsed": false,
    "ExecuteTime": {
     "end_time": "2023-11-16T23:53:28.813910700Z",
     "start_time": "2023-11-16T23:53:28.785985700Z"
    }
   },
   "id": "1e544edc28877019"
  },
  {
   "cell_type": "markdown",
   "source": [
    "### 4. TF-IDF Matrix\n",
    "Now that we have the TF matrix and the IDF matrix, we will create the TF-IDF matrix.\n",
    "\n",
    "->TIPS:\n",
    "- Create an empty matrix (list of lists)\n",
    "- Loop over the TF matrix\n",
    "- Create an empty vector (list) of the size: global_shape (this is because we are going to create two TF-IDF matrices: one for good sentences and one for bad sentences. The global_shape will be the same for both matrices)\n",
    "- Loop over each word in the sentence\n",
    "- Multiply the TF value with the IDF value\n",
    "- Add the value to the vector\n",
    "- Add the vector to the matrix\n",
    "- Return the matrix"
   ],
   "metadata": {
    "collapsed": false
   },
   "id": "eefe364a0cb51ad6"
  },
  {
   "cell_type": "code",
   "execution_count": 242,
   "outputs": [],
   "source": [
    "def tf_idf_matrix(tf_matrix, idf_matrix):\n",
    "    pass"
   ],
   "metadata": {
    "collapsed": false,
    "ExecuteTime": {
     "end_time": "2023-11-16T23:53:28.890242300Z",
     "start_time": "2023-11-16T23:53:28.804936500Z"
    }
   },
   "id": "9e3e70da8336d719"
  },
  {
   "cell_type": "code",
   "execution_count": 243,
   "outputs": [
    {
     "name": "stdout",
     "output_type": "stream",
     "text": [
      "Shape of TF-IDF Matrix : \n",
      " (41, 80)\n",
      "TF-IDF Matrix : \n",
      " [[0.07410797 2.63905733 3.04452244 ... 0.         0.         0.        ]\n",
      " [0.07410797 0.         0.         ... 0.         0.         0.        ]\n",
      " [0.07410797 2.63905733 0.         ... 0.         0.         0.        ]\n",
      " ...\n",
      " [0.07410797 0.         0.         ... 0.         0.         0.        ]\n",
      " [0.07410797 0.         0.         ... 0.         0.         0.        ]\n",
      " [0.07410797 0.         0.         ... 0.         0.         0.        ]]\n",
      "Shape of TF-IDF Matrix : \n",
      " (27, 80)\n",
      "TF-IDF Matrix : \n",
      " [[0.11332869 1.94591015 2.63905733 ... 0.         0.         0.        ]\n",
      " [0.11332869 0.         0.         ... 0.         0.         0.        ]\n",
      " [0.11332869 1.94591015 0.         ... 0.         0.         0.        ]\n",
      " ...\n",
      " [0.11332869 0.         0.         ... 0.         0.         0.        ]\n",
      " [0.11332869 0.         0.         ... 0.         0.         0.        ]\n",
      " [0.11332869 0.         0.         ... 0.         0.         0.        ]]\n"
     ]
    }
   ],
   "source": [
    "tf_idf_matrix_bad = tf_idf_matrix(tf_matrix_bad, idf_matrix_bad)\n",
    "tf_idf_matrix_good = tf_idf_matrix(tf_matrix_good, idf_matrix_good)"
   ],
   "metadata": {
    "collapsed": false,
    "ExecuteTime": {
     "end_time": "2023-11-16T23:53:28.909173400Z",
     "start_time": "2023-11-16T23:53:28.816904100Z"
    }
   },
   "id": "5dc20545fa263033"
  },
  {
   "cell_type": "markdown",
   "source": [
    "### 5. Check sentiment\n",
    "Now that we have the two TF-IDF matrices, we can check the sentiment of any sentence we want.\n",
    "To check the sentiment, we will calculate the cosine similarity between the sentence we want to check and the two TF-IDF matrices.\n",
    "The TF-IDF matrix with the highest cosine similarity will be the one with the closest distance to the sentence we want to check.\n",
    "\n",
    "For example, for the sentence \"I love this cat\", the cosine similarity with the good TF-IDF matrix could be 0.5 and the cosine similarity with the bad TF-IDF matrix could be 0.2.\n",
    "In this case, the sentence \"I love this cat\" will be considered as a good sentence.\n",
    "\n",
    "->TIPS:\n",
    "- Create a function that takes a query as an input (a sentence)\n",
    "- Create an empty vector (list) of the size: global_shape (this is because we are going to create two TF-IDF matrices: one for good sentences and one for bad sentences. The global_shape will be the same for both matrices)\n",
    "- Combine all words from both tf_bad and tf_good as a set: **all_words = set(list(tf_bad.keys()) + list(tf_good.keys()))**\n",
    "- Loop over each word in the set\n",
    "- If the word is in the query:\n",
    "    - If the word is in tf_bad:\n",
    "        - Add the TF-IDF value to the vector with the index of the word in tf_bad as index and the idf_matrix_bad value as value\n",
    "    - If the word is in tf_good:\n",
    "        - Add the TF-IDF value to the vector with the index of the word in tf_good as index and the idf_matrix_good value as value\n",
    "- Calculate the cosine similarity between the query vector and the good TF-IDF matrix: **cosine_similarity([query_vector], tf_idf_matrix_good)[0][0]**\n",
    "- Calculate the cosine similarity between the query vector and the bad TF-IDF matrix: **cosine_similarity([query_vector], tf_idf_matrix_bad)[0][0]**\n",
    "- If the cosine similarity with the good TF-IDF matrix is higher than the cosine similarity with the bad TF-IDF matrix:\n",
    "    - Print the query with a smiley (or whatever :p)\n",
    "    - Else: print the query with a sad smiley (or whatever :p)"
   ],
   "metadata": {
    "collapsed": false
   },
   "id": "4d8b4231f26b3c9a"
  },
  {
   "cell_type": "code",
   "execution_count": null,
   "outputs": [],
   "source": [
    "good_query = \"WOW, I am so happy to meet you!\"\n",
    "bad_query = \"I hate it a lot\""
   ],
   "metadata": {
    "collapsed": false
   },
   "id": "9873361a3cc40964"
  },
  {
   "cell_type": "code",
   "execution_count": 245,
   "outputs": [],
   "source": [
    "def check_sentiment(query):\n",
    "    pass"
   ],
   "metadata": {
    "collapsed": false,
    "ExecuteTime": {
     "end_time": "2023-11-16T23:53:28.910170800Z",
     "start_time": "2023-11-16T23:53:28.846823100Z"
    }
   },
   "id": "c1821720c45a30ed"
  },
  {
   "cell_type": "code",
   "execution_count": 246,
   "outputs": [
    {
     "name": "stdout",
     "output_type": "stream",
     "text": [
      "WOW, I am so happy to meet you! => :) UwU\n",
      "I hate it a lot => :( OoO\n"
     ]
    }
   ],
   "source": [
    "check_sentiment(good_query)\n",
    "check_sentiment(bad_query)"
   ],
   "metadata": {
    "collapsed": false,
    "ExecuteTime": {
     "end_time": "2023-11-16T23:53:28.910170800Z",
     "start_time": "2023-11-16T23:53:28.860787900Z"
    }
   },
   "id": "3574933f09b890da"
  }
 ],
 "metadata": {
  "kernelspec": {
   "display_name": "Python 3",
   "language": "python",
   "name": "python3"
  },
  "language_info": {
   "codemirror_mode": {
    "name": "ipython",
    "version": 2
   },
   "file_extension": ".py",
   "mimetype": "text/x-python",
   "name": "python",
   "nbconvert_exporter": "python",
   "pygments_lexer": "ipython2",
   "version": "2.7.6"
  }
 },
 "nbformat": 4,
 "nbformat_minor": 5
}
